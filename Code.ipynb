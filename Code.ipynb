{
 "cells": [
  {
   "cell_type": "code",
   "execution_count": 32,
   "metadata": {},
   "outputs": [],
   "source": [
    "from selenium import webdriver\n",
    "import csv"
   ]
  },
  {
   "cell_type": "code",
   "execution_count": 33,
   "metadata": {},
   "outputs": [
    {
     "name": "stderr",
     "output_type": "stream",
     "text": [
      "C:\\Users\\hager nasser\\AppData\\Roaming\\Python\\Python37\\site-packages\\ipykernel_launcher.py:1: DeprecationWarning: executable_path has been deprecated, please pass in a Service object\n",
      "  \"\"\"Entry point for launching an IPython kernel.\n"
     ]
    }
   ],
   "source": [
    "driver = webdriver.Chrome(r\"G:\\hager\\ITI\\Technical\\07_Data Preparation\\Lec2\\New folder\\chromedriver.exe\")\n",
    "driver.get('https://www.amazon.in/gp/bestsellers/books/')"
   ]
  },
  {
   "cell_type": "code",
   "execution_count": 34,
   "metadata": {},
   "outputs": [
    {
     "name": "stderr",
     "output_type": "stream",
     "text": [
      "C:\\Users\\hager nasser\\AppData\\Roaming\\Python\\Python37\\site-packages\\ipykernel_launcher.py:1: DeprecationWarning: find_elements_by_* commands are deprecated. Please use find_elements() instead\n",
      "  \"\"\"Entry point for launching an IPython kernel.\n",
      "C:\\Users\\hager nasser\\AppData\\Roaming\\Python\\Python37\\site-packages\\ipykernel_launcher.py:2: DeprecationWarning: find_elements_by_* commands are deprecated. Please use find_elements() instead\n",
      "  \n"
     ]
    }
   ],
   "source": [
    "title = driver.find_elements_by_xpath(\"//div[@class='p13n-sc-truncated']\")\n",
    "prices = driver.find_elements_by_xpath(\"//span[@class='p13n-sc-price']\")"
   ]
  },
  {
   "cell_type": "code",
   "execution_count": 35,
   "metadata": {},
   "outputs": [
    {
     "name": "stdout",
     "output_type": "stream",
     "text": [
      "The Psychology of Money\n",
      "Atomic Habits: The life-changing million copy…\n",
      "Ikigai: The Japanese secret to a long and…\n",
      "DO EPIC SHIT\n",
      "Word Power Made Easy\n",
      "My First Library: Boxset of 10 Board Books for…\n",
      "Rich Dad Poor Dad: What the Rich Teach…\n",
      "Life's Amazing Secrets: How to Find Balance…\n",
      "Grandma's Bag of Stories: Collection of 20+…\n",
      "The Almanack Of Naval Ravikant: A Guide to…\n",
      "The Subtle Art of Not Giving a F*ck: A…\n",
      "Oswaal CBSE Question Bank Chapterwise…\n",
      "The Power of Your Subconscious Mind\n",
      "400 Days\n",
      "The Alchemist\n",
      "My First Book of Pencil Control : Practice…\n",
      "It Ends With Us: A Novel\n",
      "27 Years UPSC IAS/ IPS Prelims Topic-wise…\n",
      "World’s Greatest Classics (Box Set of 4 Books)\n",
      "Attitude Is Everything: Change Your Attitude ...…\n",
      "My First Mythology Tale (Illustrated) (Set of 5…\n",
      "How to Win Friends and Influence People\n",
      "Karma: A Yogi's Guide to Crafting Your…\n",
      "Moral Story Books for Kids (Pack of 10 Books)…\n",
      "World’s Greatest Books For Personal Growth…\n",
      "Very First Sight Words Sentences Level 1\n",
      "Eat That Frog!: 21 Great Ways to Stop…\n",
      "The Intelligent Investor (English) Paperback –…\n",
      "Quantitative Aptitude for Competitive…\n",
      "Sapiens: A Brief History of Humankind\n",
      "Grandparents' Bag of Stories\n",
      "101 Panchatantra Stories for Children:…\n",
      "The Richest Man in Babylon\n",
      "The Power of Your Subconscious Mind\n",
      "Deep Work: Rules for Focused Success in a…\n",
      "Man's Search For Meaning: The classic tribute…\n",
      "Picture Books Collection for Early Learning…\n",
      "The Monk Who Sold His Ferrari\n",
      "Brain Games for Clever Kids: Puzzles to…\n",
      "Who Will Cry When You Die?\n",
      "Writing Practice Boxset: Pack of 4 Books…\n",
      "Educart TERM 2 CBSE Question Bank…\n",
      "Colour With Crayons Book 1 for Kids Age 1 -6…\n",
      "Rich Dad Poor Dad - 20Th Anniversary…\n",
      "General Knowledge 2022\n",
      "The Blue Umbrella\n",
      "General Knowledge\n",
      "Encyclopedia: Amazing Questions & Answers…\n",
      "India that is Bharat: Coloniality, Civilisation,…\n",
      "Manorama English Yearbook 2022\n"
     ]
    }
   ],
   "source": [
    "for i in title:\n",
    "    print(i.text)"
   ]
  },
  {
   "cell_type": "code",
   "execution_count": 36,
   "metadata": {},
   "outputs": [
    {
     "name": "stdout",
     "output_type": "stream",
     "text": [
      "₹259.00\n",
      "₹438.00\n",
      "₹299.00\n",
      "₹369.00\n",
      "₹92.00\n",
      "₹349.00\n",
      "₹291.00\n",
      "₹143.00\n",
      "₹148.00\n",
      "₹203.00\n",
      "₹274.00\n",
      "₹843.00\n",
      "₹117.00\n",
      "₹152.00\n",
      "₹197.00\n",
      "₹89.00\n",
      "₹361.00\n",
      "₹419.00\n",
      "₹259.00\n",
      "₹119.00\n",
      "₹191.00\n",
      "₹76.00\n",
      "₹142.00\n",
      "₹235.00\n",
      "₹279.00\n",
      "₹105.00\n",
      "₹146.00\n",
      "₹440.00\n",
      "₹467.00\n",
      "₹339.00\n",
      "₹136.00\n",
      "₹128.00\n",
      "₹99.00\n",
      "₹99.00\n",
      "₹248.00\n",
      "₹182.00\n",
      "₹199.00\n",
      "₹148.00\n",
      "₹126.00\n",
      "₹133.00\n",
      "₹159.00\n",
      "₹613.00\n",
      "₹42.00\n",
      "₹188.00\n",
      "₹119.00\n",
      "₹54.00\n",
      "₹160.00\n",
      "₹120.00\n",
      "₹484.00\n",
      "₹294.00\n"
     ]
    }
   ],
   "source": [
    "for i in prices:\n",
    "    print(i.text)"
   ]
  },
  {
   "cell_type": "code",
   "execution_count": 37,
   "metadata": {},
   "outputs": [],
   "source": [
    "with open('G:\\hager\\ITI\\Technical\\Amazon_Products.csv', 'w',encoding='utf-8',newline='') as csvfile:\n",
    "    csvwriter = csv.writer(csvfile, delimiter=',')\n",
    "    csvwriter.writerow(['Books title','Prices'])\n",
    "    for i in range(0,len(title)):\n",
    "        csvwriter.writerow([title[i].text,prices[i].text])"
   ]
  }
 ],
 "metadata": {
  "interpreter": {
   "hash": "d2fd0105920c50c8c37895c01260c2dbdfc4755f11691a0b0d9bbf5316334ede"
  },
  "kernelspec": {
   "display_name": "Python 3.7.0 64-bit",
   "language": "python",
   "name": "python3"
  },
  "language_info": {
   "codemirror_mode": {
    "name": "ipython",
    "version": 3
   },
   "file_extension": ".py",
   "mimetype": "text/x-python",
   "name": "python",
   "nbconvert_exporter": "python",
   "pygments_lexer": "ipython3",
   "version": "3.7.0"
  },
  "orig_nbformat": 4
 },
 "nbformat": 4,
 "nbformat_minor": 2
}
